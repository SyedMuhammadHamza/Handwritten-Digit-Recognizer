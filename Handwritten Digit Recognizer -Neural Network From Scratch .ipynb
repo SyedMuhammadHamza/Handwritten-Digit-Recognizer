{
 "cells": [
  {
   "cell_type": "markdown",
   "id": "known-healthcare",
   "metadata": {},
   "source": [
    "#                                    Deep Neural Network From Scratch "
   ]
  },
  {
   "cell_type": "code",
   "execution_count": null,
   "id": "written-harvest",
   "metadata": {},
   "outputs": [],
   "source": [
    "from keras.datasets import mnist\n",
    "import matplotlib.pyplot as plt\n",
    "# Scientific and vector computation for python\n",
    "import numpy as np\n",
    "# Optimization module in scipy\n",
    "from scipy import optimize\n",
    "from keras.utils import np_utils\n"
   ]
  },
  {
   "cell_type": "code",
   "execution_count": null,
   "id": "ranging-candy",
   "metadata": {},
   "outputs": [],
   "source": [
    "def randInitializeWeights(L_in, L_out, epsilon_init=0.12):\n",
    "    \"\"\"Initializing weitghs for all neurons between given input layer 'L_in'\n",
    "       and output layer 'L_out' to some initila value different from each \n",
    "       other hence avoiding 'PROBLEM OF SYMMETRIC WEIGHTS' \n",
    "       NOTE:this fucntion take layer l as L_in and layer l+1 as layer L_out and \n",
    "       return a matrix of shape (L_out)*(L_in +1) \n",
    "    \"\"\"\n",
    "    W = np.zeros((L_out, 1 + L_in))\n",
    "    W = np.random.rand(L_out, 1 + L_in) * 2 * epsilon_init - epsilon_init\n",
    "    return W"
   ]
  },
  {
   "cell_type": "code",
   "execution_count": null,
   "id": "independent-burst",
   "metadata": {},
   "outputs": [],
   "source": [
    "\n",
    "def sigmoid(z):\n",
    "    \"\"\"Computes the sigmoid of z.\n",
    "    \"\"\"\n",
    "    g =1.0 / (1.0 + np.exp(-z))\n",
    "    return g"
   ]
  },
  {
   "cell_type": "code",
   "execution_count": null,
   "id": "loved-accused",
   "metadata": {},
   "outputs": [],
   "source": [
    "def sigmoidGradient(z):\n",
    "    \"\"\"Computes the gradient of sigmoid of z.\n",
    "    \"\"\"\n",
    "    g = np.zeros(z.shape)\n",
    "    g = sigmoid(z) * (1 - sigmoid(z))\n",
    "    return g"
   ]
  },
  {
   "cell_type": "code",
   "execution_count": null,
   "id": "rough-robert",
   "metadata": {},
   "outputs": [],
   "source": [
    "def nnCostFunction(nn_params,\n",
    "                   input_layer_size,\n",
    "                   hidden_layer_size,\n",
    "                   num_labels,\n",
    "                   X, y, lambda_=0.0):\n",
    "    # Reshape nn_params back into the parameters Theta1 and Theta2, the weight matrices\n",
    "    # for our 2 layer neural network\n",
    "    Theta1 = np.reshape(nn_params[:hidden_layer_size * (input_layer_size + 1)],\n",
    "                        (hidden_layer_size, (input_layer_size + 1)))\n",
    "\n",
    "    Theta2 = np.reshape(nn_params[(hidden_layer_size * (input_layer_size + 1)):],\n",
    "                        (num_labels, (hidden_layer_size + 1)))\n",
    "\n",
    "    # Setup some useful variables\n",
    "    m = y.size\n",
    "    colOFonesFora1=np.ones([m,1], dtype = int)\n",
    "    a1=np.c_[colOFonesFora1,X]\n",
    "    z2=a1.dot(Theta1.T)\n",
    "    # Calculate activations in the second layer.\n",
    "    a2=sigmoid(z2)\n",
    "    colOfonesFora2=np.ones([m,1], dtype = int)\n",
    "    a2=np.c_[colOfonesFora2,a2]\n",
    "    z3=a2.dot(Theta2.T)\n",
    "    # Calculate the activation of the third layer.\n",
    "    a3=sigmoid(z3)\n",
    "\t#a3 is a 5000by10 matrix\n",
    "    #converts y into vecot if it was vector\n",
    "    y_matrix = y.reshape(-1)\n",
    "    '''we had vector of y with each value of vetor ith indicating \n",
    "    value of corresponding X in feature vector ith we have to convert \n",
    "    eaach value into row of 10 values '''\n",
    "    y_matrix = np.eye(num_labels)[y_matrix]\n",
    "    #prepariring regularization terms\n",
    "    temp1 = Theta1\n",
    "    temp2 = Theta2\n",
    "    J = 0\n",
    "    Theta1_grad = np.zeros(Theta1.shape)\n",
    "    Theta2_grad = np.zeros(Theta2.shape)\n",
    "    reg_term = (lambda_ / (2 * m)) * (np.sum(np.square(temp1[:, 1:])) + np.sum(np.square(temp2[:, 1:])))\n",
    "    #this (temp1[:, 1:] is chosing all of theta apart from first rwo of bais terms\n",
    "    J=(-1/ (m))*(np.sum((y_matrix*(np.log(a3)))+((1-y_matrix)*np.log(1-a3))))+reg_term\n",
    "    \n",
    "    #instead of using loop we are caculating delta vectoried\n",
    "    delta_3 = a3 - y_matrix\n",
    "    delta_2 = delta_3.dot(Theta2)[:, 1:] * sigmoidGradient(a1.dot(Theta1.T))\n",
    "    \n",
    "    Delta1 = delta_2.T.dot(a1)\n",
    "    Delta2 = delta_3.T.dot(a2)\n",
    "    \n",
    "    Theta1_grad = (1 / m) * Delta1\n",
    "    Theta1_grad[:, 1:] = Theta1_grad[:, 1:] + (lambda_ / m) * Theta1[:, 1:]\n",
    "    \n",
    "    Theta2_grad = (1 / m) * Delta2\n",
    "    Theta2_grad[:, 1:] = Theta2_grad[:, 1:] + (lambda_ / m) * Theta2[:, 1:]\n",
    "   \n",
    "    \n",
    "    # ================================================================\n",
    "    # Unroll gradients\n",
    "    # grad = np.concatenate([Theta1_grad.ravel(order=order), Theta2_grad.ravel(order=order)])\n",
    "    grad = np.concatenate([Theta1_grad.ravel(), Theta2_grad.ravel()])\n",
    "\n",
    "    return J, grad"
   ]
  },
  {
   "cell_type": "code",
   "execution_count": null,
   "id": "round-snowboard",
   "metadata": {},
   "outputs": [],
   "source": [
    "def predict(Theta1, Theta2, X):\n",
    "    \"\"\"\n",
    "    Predict the label of an input given a trained neural network\n",
    "    Outputs the predicted label of X given the trained weights of a neural\n",
    "    network(Theta1, Theta2)\n",
    "    \"\"\"\n",
    "    # Useful values\n",
    "    m = X.shape[0]\n",
    "    num_labels = Theta2.shape[0]\n",
    "\n",
    "    # You need to return the following variables correctly\n",
    "    p = np.zeros(m)\n",
    "    h1 = sigmoid(np.dot(np.concatenate([np.ones((m, 1)), X], axis=1), Theta1.T))\n",
    "    h2 = sigmoid(np.dot(np.concatenate([np.ones((m, 1)), h1], axis=1), Theta2.T))\n",
    "    p = np.argmax(h2, axis=1)\n",
    "    return p\n"
   ]
  },
  {
   "cell_type": "code",
   "execution_count": 4,
   "id": "equal-poster",
   "metadata": {},
   "outputs": [
    {
     "name": "stdout",
     "output_type": "stream",
     "text": [
      "Downloading data from https://s3.amazonaws.com/img-datasets/mnist.npz\n",
      "11493376/11490434 [==============================] - 63s 5us/step\n"
     ]
    },
    {
     "data": {
      "image/png": "[encoded data removed]",
      "text/plain": [
       "<Figure size 432x288 with 4 Axes>"
      ]
     },
     "metadata": {
      "needs_background": "light"
     },
     "output_type": "display_data"
    },
    {
     "name": "stdout",
     "output_type": "stream",
     "text": [
      "Training Set Accuracy: 100.000000\n",
      "Test Set Accuracy: 98.460000\n"
     ]
    }
   ],
   "source": [
    " #load (downloaded if needed) the MNIST dataset\n",
    "(X_train, y_train), (X_test, y_test) = mnist.load_data()\n",
    "# plot 4 images as gray scale\n",
    "plt.subplot(221)\n",
    "plt.imshow(X_train[0], cmap=plt.get_cmap('gray'))\n",
    "plt.subplot(222)\n",
    "plt.imshow(X_train[1], cmap=plt.get_cmap('gray'))\n",
    "plt.subplot(223)\n",
    "plt.imshow(X_train[2], cmap=plt.get_cmap('gray'))\n",
    "plt.subplot(224)\n",
    "plt.imshow(X_train[3], cmap=plt.get_cmap('gray'))\n",
    "# show the plot\n",
    "plt.show()\n",
    "\n",
    "(X_train, y_train), (X_test, y_test) = mnist.load_data()\n",
    "# flatten 28*28 images to a 784 vector for each image\n",
    "'''The training dataset is structured as a 3-dimensional array of instance,\n",
    " image width and image height. For a multi-layer perceptron model we must \n",
    " reduce the images down into a vector of pixels. In this case the 28×28 \n",
    " sized images will be 784 pixel input values.\n",
    " We can also reduce our memory requirements by forcing the precision of \n",
    " the pixel values to be 32 bit, the default precision used by Keras anyway.'''\n",
    "\n",
    "num_pixels = X_train.shape[1] * X_train.shape[2]#num_pixels=row*column\n",
    "X_train = X_train.reshape((X_train.shape[0], num_pixels)).astype('float32')\n",
    "X_test = X_test.reshape((X_test.shape[0], num_pixels)).astype('float32')\n",
    "\n",
    "'''The pixel values are gray scale between 0 and 255. It is almost always\n",
    " a good idea to perform some scaling of input values when using neural \n",
    " network models. Because the scale is well known and well behaved, we\n",
    " can very quickly normalize the pixel values to the range 0 and 1 by \n",
    " dividing each value by the maximum of 255.'''\n",
    " \n",
    " # normalize inputs from 0-255 to 0-1\n",
    "X_train = X_train / 255\n",
    "X_test = X_test / 255\n",
    "\n",
    "# one hot encode outputs\n",
    "#y_train = np_utils.to_categorical(y_train)\n",
    "#y_test = np_utils.to_categorical(y_test)\n",
    "num_classes = y_test.shape[0]\n",
    "\n",
    "input_layer_size=num_pixels\n",
    "hidden_layer_size=800\n",
    "output_layer_size=10\n",
    "\n",
    "initial_Theta1 = randInitializeWeights(input_layer_size, hidden_layer_size)\n",
    "initial_Theta2 = randInitializeWeights(hidden_layer_size,output_layer_size)\n",
    "\n",
    "# Unroll parameters\n",
    "initial_nn_params = np.concatenate([initial_Theta1.ravel(), initial_Theta2.ravel()], axis=0)\n",
    "lambda_ = 0.5\n",
    "\n",
    "J, _ = nnCostFunction(initial_nn_params, input_layer_size, hidden_layer_size,\n",
    "                      output_layer_size,X_train,y_train, lambda_)\n",
    "\n",
    "options= {'maxiter': 400}\n",
    "#  You should also try different values of lambda\n",
    "#lambda_ = 3\n",
    "\n",
    "# Create \"short hand\" for the cost function to be minimized\n",
    "costFunction = lambda p: nnCostFunction(p, input_layer_size,\n",
    "                                        hidden_layer_size,\n",
    "                                        output_layer_size,X_train,y_train, lambda_)\n",
    "\n",
    "# Now, costFunction is a function that takes in only one argument\n",
    "# (the neural network parameters)\n",
    "res = optimize.minimize(costFunction,\n",
    "                        initial_nn_params,\n",
    "                        jac=True,\n",
    "                        method='TNC',\n",
    "                        options=options)\n",
    "\n",
    "# get the solution of the optimization\n",
    "nn_params = res.x\n",
    "        \n",
    "# Obtain Theta1 and Theta2 back from nn_params\n",
    "Theta1 = np.reshape(nn_params[:hidden_layer_size * (input_layer_size + 1)],\n",
    "                    (hidden_layer_size, (input_layer_size + 1)))\n",
    "\n",
    "Theta2 = np.reshape(nn_params[(hidden_layer_size * (input_layer_size + 1)):],\n",
    "                    (output_layer_size, (hidden_layer_size + 1)))\n",
    "\n",
    "pred = predict(Theta1, Theta2, X_train)\n",
    "print('Training Set Accuracy: %f' % (np.mean(pred == y_train) * 100))\n",
    "pred = predict(Theta1, Theta2, X_test)\n",
    "print('Test Set Accuracy: %f' % (np.mean(pred == y_test) * 100))"
   ]
  },
  {
   "cell_type": "code",
   "execution_count": null,
   "id": "acute-transsexual",
   "metadata": {},
   "outputs": [],
   "source": []
  }
 ],
 "metadata": {
  "kernelspec": {
   "display_name": "Python 3",
   "language": "python",
   "name": "python3"
  },
  "language_info": {
   "codemirror_mode": {
    "name": "ipython",
    "version": 3
   },
   "file_extension": ".py",
   "mimetype": "text/x-python",
   "name": "python",
   "nbconvert_exporter": "python",
   "pygments_lexer": "ipython3",
   "version": "3.7.9"
  }
 },
 "nbformat": 4,
 "nbformat_minor": 5
}
